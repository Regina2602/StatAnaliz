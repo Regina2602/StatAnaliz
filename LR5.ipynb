{
 "cells": [
  {
   "cell_type": "code",
   "execution_count": 3,
   "metadata": {},
   "outputs": [],
   "source": [
    "import numpy as np\n",
    "from scipy.stats import t\n",
    "from scipy.stats import norm\n",
    "import matplotlib.pyplot as plt\n",
    "from scipy import stats\n",
    "import pandas as pd\n",
    "import io\n",
    "import requests\n",
    "import seaborn as sns\n",
    "import statistics\n",
    "from scipy.stats import pearsonr\n",
    "from sklearn.metrics import mean_squared_error, mean_absolute_error\n",
    "import random\n",
    "%matplotlib inline"
   ]
  },
  {
   "cell_type": "markdown",
   "metadata": {},
   "source": [
    "1 Построить гистограмму и с помощью описательной статистики охарактеризовать рассматриваемый бизнес-процесс. (Текстовое описание в ячейке Marcdown)\n",
    "Постройте гистограммы распределения цен для каждой категории (по количеству комнат). Какие выводы можно сделать на основе полученных гистограмм? "
   ]
  },
  {
   "cell_type": "code",
   "execution_count": 4,
   "metadata": {},
   "outputs": [
    {
     "data": {
      "text/html": [
       "<div>\n",
       "<style scoped>\n",
       "    .dataframe tbody tr th:only-of-type {\n",
       "        vertical-align: middle;\n",
       "    }\n",
       "\n",
       "    .dataframe tbody tr th {\n",
       "        vertical-align: top;\n",
       "    }\n",
       "\n",
       "    .dataframe thead th {\n",
       "        text-align: right;\n",
       "    }\n",
       "</style>\n",
       "<table border=\"1\" class=\"dataframe\">\n",
       "  <thead>\n",
       "    <tr style=\"text-align: right;\">\n",
       "      <th></th>\n",
       "      <th>No</th>\n",
       "      <th>Rooms</th>\n",
       "      <th>DistMetro</th>\n",
       "      <th>Area</th>\n",
       "      <th>Price</th>\n",
       "    </tr>\n",
       "  </thead>\n",
       "  <tbody>\n",
       "    <tr>\n",
       "      <th>0</th>\n",
       "      <td>1</td>\n",
       "      <td>3</td>\n",
       "      <td>12</td>\n",
       "      <td>56</td>\n",
       "      <td>9396</td>\n",
       "    </tr>\n",
       "    <tr>\n",
       "      <th>1</th>\n",
       "      <td>2</td>\n",
       "      <td>2</td>\n",
       "      <td>4</td>\n",
       "      <td>54</td>\n",
       "      <td>9785</td>\n",
       "    </tr>\n",
       "    <tr>\n",
       "      <th>2</th>\n",
       "      <td>3</td>\n",
       "      <td>1</td>\n",
       "      <td>2</td>\n",
       "      <td>31</td>\n",
       "      <td>5783</td>\n",
       "    </tr>\n",
       "    <tr>\n",
       "      <th>3</th>\n",
       "      <td>4</td>\n",
       "      <td>2</td>\n",
       "      <td>8</td>\n",
       "      <td>48</td>\n",
       "      <td>9123</td>\n",
       "    </tr>\n",
       "    <tr>\n",
       "      <th>4</th>\n",
       "      <td>5</td>\n",
       "      <td>1</td>\n",
       "      <td>11</td>\n",
       "      <td>31</td>\n",
       "      <td>5662</td>\n",
       "    </tr>\n",
       "  </tbody>\n",
       "</table>\n",
       "</div>"
      ],
      "text/plain": [
       "   No  Rooms  DistMetro  Area  Price\n",
       "0   1      3         12    56   9396\n",
       "1   2      2          4    54   9785\n",
       "2   3      1          2    31   5783\n",
       "3   4      2          8    48   9123\n",
       "4   5      1         11    31   5662"
      ]
     },
     "execution_count": 4,
     "metadata": {},
     "output_type": "execute_result"
    }
   ],
   "source": [
    "data = pd.read_excel('БД_Риэлтор.xlsx')\n",
    "data.head()"
   ]
  },
  {
   "cell_type": "code",
   "execution_count": 5,
   "metadata": {},
   "outputs": [
    {
     "name": "stdout",
     "output_type": "stream",
     "text": [
      "<class 'pandas.core.frame.DataFrame'>\n",
      "RangeIndex: 5000 entries, 0 to 4999\n",
      "Data columns (total 5 columns):\n",
      " #   Column     Non-Null Count  Dtype\n",
      "---  ------     --------------  -----\n",
      " 0   No         5000 non-null   int64\n",
      " 1   Rooms      5000 non-null   int64\n",
      " 2   DistMetro  5000 non-null   int64\n",
      " 3   Area       5000 non-null   int64\n",
      " 4   Price      5000 non-null   int64\n",
      "dtypes: int64(5)\n",
      "memory usage: 195.4 KB\n"
     ]
    }
   ],
   "source": [
    "data.info()"
   ]
  },
  {
   "cell_type": "code",
   "execution_count": 6,
   "metadata": {},
   "outputs": [
    {
     "data": {
      "text/html": [
       "<div>\n",
       "<style scoped>\n",
       "    .dataframe tbody tr th:only-of-type {\n",
       "        vertical-align: middle;\n",
       "    }\n",
       "\n",
       "    .dataframe tbody tr th {\n",
       "        vertical-align: top;\n",
       "    }\n",
       "\n",
       "    .dataframe thead th {\n",
       "        text-align: right;\n",
       "    }\n",
       "</style>\n",
       "<table border=\"1\" class=\"dataframe\">\n",
       "  <thead>\n",
       "    <tr style=\"text-align: right;\">\n",
       "      <th></th>\n",
       "      <th>No</th>\n",
       "      <th>Rooms</th>\n",
       "      <th>DistMetro</th>\n",
       "      <th>Area</th>\n",
       "      <th>Price</th>\n",
       "    </tr>\n",
       "  </thead>\n",
       "  <tbody>\n",
       "    <tr>\n",
       "      <th>0</th>\n",
       "      <td>1</td>\n",
       "      <td>2.0</td>\n",
       "      <td>16.0</td>\n",
       "      <td>29.0</td>\n",
       "      <td>5432.0</td>\n",
       "    </tr>\n",
       "  </tbody>\n",
       "</table>\n",
       "</div>"
      ],
      "text/plain": [
       "   No  Rooms  DistMetro  Area   Price\n",
       "0   1    2.0       16.0  29.0  5432.0"
      ]
     },
     "execution_count": 6,
     "metadata": {},
     "output_type": "execute_result"
    }
   ],
   "source": [
    "data.mode().head(1)"
   ]
  },
  {
   "cell_type": "code",
   "execution_count": 7,
   "metadata": {},
   "outputs": [
    {
     "data": {
      "text/html": [
       "<div>\n",
       "<style scoped>\n",
       "    .dataframe tbody tr th:only-of-type {\n",
       "        vertical-align: middle;\n",
       "    }\n",
       "\n",
       "    .dataframe tbody tr th {\n",
       "        vertical-align: top;\n",
       "    }\n",
       "\n",
       "    .dataframe thead th {\n",
       "        text-align: right;\n",
       "    }\n",
       "</style>\n",
       "<table border=\"1\" class=\"dataframe\">\n",
       "  <thead>\n",
       "    <tr style=\"text-align: right;\">\n",
       "      <th></th>\n",
       "      <th>No</th>\n",
       "      <th>Rooms</th>\n",
       "      <th>DistMetro</th>\n",
       "      <th>Area</th>\n",
       "      <th>Price</th>\n",
       "    </tr>\n",
       "  </thead>\n",
       "  <tbody>\n",
       "    <tr>\n",
       "      <th>count</th>\n",
       "      <td>5000.000000</td>\n",
       "      <td>5000.000000</td>\n",
       "      <td>5000.000000</td>\n",
       "      <td>5000.000000</td>\n",
       "      <td>5000.000000</td>\n",
       "    </tr>\n",
       "    <tr>\n",
       "      <th>mean</th>\n",
       "      <td>2500.500000</td>\n",
       "      <td>1.999200</td>\n",
       "      <td>9.588000</td>\n",
       "      <td>47.558800</td>\n",
       "      <td>8550.912200</td>\n",
       "    </tr>\n",
       "    <tr>\n",
       "      <th>std</th>\n",
       "      <td>1443.520003</td>\n",
       "      <td>0.813715</td>\n",
       "      <td>5.795151</td>\n",
       "      <td>17.167431</td>\n",
       "      <td>2985.530681</td>\n",
       "    </tr>\n",
       "    <tr>\n",
       "      <th>min</th>\n",
       "      <td>1.000000</td>\n",
       "      <td>1.000000</td>\n",
       "      <td>0.000000</td>\n",
       "      <td>21.000000</td>\n",
       "      <td>2825.000000</td>\n",
       "    </tr>\n",
       "    <tr>\n",
       "      <th>25%</th>\n",
       "      <td>1250.750000</td>\n",
       "      <td>1.000000</td>\n",
       "      <td>5.000000</td>\n",
       "      <td>31.000000</td>\n",
       "      <td>5904.750000</td>\n",
       "    </tr>\n",
       "    <tr>\n",
       "      <th>50%</th>\n",
       "      <td>2500.500000</td>\n",
       "      <td>2.000000</td>\n",
       "      <td>10.000000</td>\n",
       "      <td>48.000000</td>\n",
       "      <td>8407.500000</td>\n",
       "    </tr>\n",
       "    <tr>\n",
       "      <th>75%</th>\n",
       "      <td>3750.250000</td>\n",
       "      <td>3.000000</td>\n",
       "      <td>15.000000</td>\n",
       "      <td>59.000000</td>\n",
       "      <td>10652.000000</td>\n",
       "    </tr>\n",
       "    <tr>\n",
       "      <th>max</th>\n",
       "      <td>5000.000000</td>\n",
       "      <td>3.000000</td>\n",
       "      <td>19.000000</td>\n",
       "      <td>83.000000</td>\n",
       "      <td>17614.000000</td>\n",
       "    </tr>\n",
       "  </tbody>\n",
       "</table>\n",
       "</div>"
      ],
      "text/plain": [
       "                No        Rooms    DistMetro         Area         Price\n",
       "count  5000.000000  5000.000000  5000.000000  5000.000000   5000.000000\n",
       "mean   2500.500000     1.999200     9.588000    47.558800   8550.912200\n",
       "std    1443.520003     0.813715     5.795151    17.167431   2985.530681\n",
       "min       1.000000     1.000000     0.000000    21.000000   2825.000000\n",
       "25%    1250.750000     1.000000     5.000000    31.000000   5904.750000\n",
       "50%    2500.500000     2.000000    10.000000    48.000000   8407.500000\n",
       "75%    3750.250000     3.000000    15.000000    59.000000  10652.000000\n",
       "max    5000.000000     3.000000    19.000000    83.000000  17614.000000"
      ]
     },
     "execution_count": 7,
     "metadata": {},
     "output_type": "execute_result"
    }
   ],
   "source": [
    "data.describe()"
   ]
  },
  {
   "cell_type": "code",
   "execution_count": 8,
   "metadata": {},
   "outputs": [
    {
     "data": {
      "text/plain": [
       "Text(0.5, 0, 'Цена на квартиры')"
      ]
     },
     "execution_count": 8,
     "metadata": {},
     "output_type": "execute_result"
    },
    {
     "data": {
      "image/png": "[encoded data removed]",
      "text/plain": [
       "<Figure size 432x288 with 1 Axes>"
      ]
     },
     "metadata": {
      "needs_background": "light"
     },
     "output_type": "display_data"
    }
   ],
   "source": [
    "price=data['Price']\n",
    "hist=price.hist()\n",
    "hist.set_ylabel('Количество квартир')\n",
    "hist.set_xlabel('Цена на квартиры')"
   ]
  },
  {
   "cell_type": "markdown",
   "metadata": {},
   "source": [
    "   Исходя из построенной диаграммы, выдвигается гипотеза о распределении гамма цен на квартиры в базе данных.\n",
    "   Из описательной статистики получили следующие значения: цена на самую встречающуюся квартиру 5432, минимальная цена 2825, максимальная цена 17614."
   ]
  },
  {
   "cell_type": "code",
   "execution_count": 9,
   "metadata": {},
   "outputs": [],
   "source": [
    "rooms=data['Rooms'].unique()"
   ]
  },
  {
   "cell_type": "code",
   "execution_count": 10,
   "metadata": {},
   "outputs": [],
   "source": [
    "price_room_1=price[data['Rooms']==1]\n",
    "price_room_2=price[data['Rooms']==2]\n",
    "price_room_3=price[data['Rooms']==3]"
   ]
  },
  {
   "cell_type": "code",
   "execution_count": 11,
   "metadata": {},
   "outputs": [
    {
     "data": {
      "text/plain": [
       "Text(0.5, 0, 'Цена однокомнатной квартиры')"
      ]
     },
     "execution_count": 11,
     "metadata": {},
     "output_type": "execute_result"
    },
    {
     "data": {
      "image/png": "[encoded data removed]",
      "text/plain": [
       "<Figure size 432x288 with 1 Axes>"
      ]
     },
     "metadata": {
      "needs_background": "light"
     },
     "output_type": "display_data"
    }
   ],
   "source": [
    "hist1=price_room_1.hist()\n",
    "hist1.set_ylabel('Количество квартир')\n",
    "hist1.set_xlabel('Цена однокомнатной квартиры')"
   ]
  },
  {
   "cell_type": "code",
   "execution_count": 12,
   "metadata": {},
   "outputs": [
    {
     "data": {
      "text/plain": [
       "Text(0.5, 0, 'Цена двухкомнатной квартиры')"
      ]
     },
     "execution_count": 12,
     "metadata": {},
     "output_type": "execute_result"
    },
    {
     "data": {
      "image/png": "[encoded data removed]",
      "text/plain": [
       "<Figure size 432x288 with 1 Axes>"
      ]
     },
     "metadata": {
      "needs_background": "light"
     },
     "output_type": "display_data"
    }
   ],
   "source": [
    "hist2=price_room_2.hist()\n",
    "hist2.set_ylabel('Количество квартир')\n",
    "hist2.set_xlabel('Цена двухкомнатной квартиры')"
   ]
  },
  {
   "cell_type": "code",
   "execution_count": 13,
   "metadata": {},
   "outputs": [
    {
     "data": {
      "text/plain": [
       "Text(0.5, 0, 'Цена трехкомнатной квартиры')"
      ]
     },
     "execution_count": 13,
     "metadata": {},
     "output_type": "execute_result"
    },
    {
     "data": {
      "image/png": "[encoded data removed]",
      "text/plain": [
       "<Figure size 432x288 with 1 Axes>"
      ]
     },
     "metadata": {
      "needs_background": "light"
     },
     "output_type": "display_data"
    }
   ],
   "source": [
    "hist3=price_room_3.hist()\n",
    "hist3.set_ylabel('Количество квартир')\n",
    "hist3.set_xlabel('Цена трехкомнатной квартиры')"
   ]
  },
  {
   "cell_type": "markdown",
   "metadata": {},
   "source": [
    "По данным гистограммам можно выдвинуть гипотезу о нормальном распределении цен на квартиры с одинаковым количеством комнат."
   ]
  },
  {
   "cell_type": "markdown",
   "metadata": {},
   "source": [
    "2. Используя знакомые вам методы, дайте оценку корреляции цены и площади квартиры отдельно по каждой категории (по количеству комнат). Какие выводы можно сделать из этой оценки?"
   ]
  },
  {
   "cell_type": "markdown",
   "metadata": {},
   "source": [
    "**Для однокомнатных**"
   ]
  },
  {
   "cell_type": "code",
   "execution_count": 14,
   "metadata": {},
   "outputs": [
    {
     "data": {
      "text/html": [
       "<div>\n",
       "<style scoped>\n",
       "    .dataframe tbody tr th:only-of-type {\n",
       "        vertical-align: middle;\n",
       "    }\n",
       "\n",
       "    .dataframe tbody tr th {\n",
       "        vertical-align: top;\n",
       "    }\n",
       "\n",
       "    .dataframe thead th {\n",
       "        text-align: right;\n",
       "    }\n",
       "</style>\n",
       "<table border=\"1\" class=\"dataframe\">\n",
       "  <thead>\n",
       "    <tr style=\"text-align: right;\">\n",
       "      <th></th>\n",
       "      <th>Price</th>\n",
       "      <th>Area</th>\n",
       "    </tr>\n",
       "  </thead>\n",
       "  <tbody>\n",
       "    <tr>\n",
       "      <th>Price</th>\n",
       "      <td>780506.330905</td>\n",
       "      <td>1989.519167</td>\n",
       "    </tr>\n",
       "    <tr>\n",
       "      <th>Area</th>\n",
       "      <td>1989.519167</td>\n",
       "      <td>11.899206</td>\n",
       "    </tr>\n",
       "  </tbody>\n",
       "</table>\n",
       "</div>"
      ],
      "text/plain": [
       "               Price         Area\n",
       "Price  780506.330905  1989.519167\n",
       "Area     1989.519167    11.899206"
      ]
     },
     "execution_count": 14,
     "metadata": {},
     "output_type": "execute_result"
    }
   ],
   "source": [
    "room_1=data[data['Rooms']==1]\n",
    "room_1[['Price', 'Area']].cov()"
   ]
  },
  {
   "cell_type": "code",
   "execution_count": 15,
   "metadata": {},
   "outputs": [
    {
     "name": "stdout",
     "output_type": "stream",
     "text": [
      "0.6532254508775661\n",
      "65.32254508775661\n"
     ]
    }
   ],
   "source": [
    "correlation_1=1989.519167/(statistics.pstdev(room_1['Price'])*statistics.pstdev(room_1['Area']))\n",
    "print(correlation_1)\n",
    "print(correlation_1*100)"
   ]
  },
  {
   "cell_type": "code",
   "execution_count": 18,
   "metadata": {},
   "outputs": [
    {
     "data": {
      "text/html": [
       "<style  type=\"text/css\" >\n",
       "</style><table id=\"T_c469d9cd_ba05_11eb_98f7_1063c88918da\" ><thead>    <tr>        <th class=\"blank level0\" ></th>        <th class=\"col_heading level0 col0\" >Price</th>        <th class=\"col_heading level0 col1\" >Area</th>    </tr></thead><tbody>\n",
       "                <tr>\n",
       "                        <th id=\"T_c469d9cd_ba05_11eb_98f7_1063c88918dalevel0_row0\" class=\"row_heading level0 row0\" >Price</th>\n",
       "                        <td id=\"T_c469d9cd_ba05_11eb_98f7_1063c88918darow0_col0\" class=\"data row0 col0\" >1.00</td>\n",
       "                        <td id=\"T_c469d9cd_ba05_11eb_98f7_1063c88918darow0_col1\" class=\"data row0 col1\" >0.65</td>\n",
       "            </tr>\n",
       "            <tr>\n",
       "                        <th id=\"T_c469d9cd_ba05_11eb_98f7_1063c88918dalevel0_row1\" class=\"row_heading level0 row1\" >Area</th>\n",
       "                        <td id=\"T_c469d9cd_ba05_11eb_98f7_1063c88918darow1_col0\" class=\"data row1 col0\" >0.65</td>\n",
       "                        <td id=\"T_c469d9cd_ba05_11eb_98f7_1063c88918darow1_col1\" class=\"data row1 col1\" >1.00</td>\n",
       "            </tr>\n",
       "    </tbody></table>"
      ],
      "text/plain": [
       "<pandas.io.formats.style.Styler at 0x206b9b2b040>"
      ]
     },
     "execution_count": 18,
     "metadata": {},
     "output_type": "execute_result"
    }
   ],
   "source": [
    "room_1[['Price', 'Area']].corr().style.set_precision(2)"
   ]
  },
  {
   "cell_type": "markdown",
   "metadata": {},
   "source": [
    "Коэффициент корреляции Пирсона 65%"
   ]
  },
  {
   "cell_type": "markdown",
   "metadata": {},
   "source": [
    "**Для двухкомнатных**"
   ]
  },
  {
   "cell_type": "code",
   "execution_count": 19,
   "metadata": {},
   "outputs": [
    {
     "data": {
      "text/html": [
       "<div>\n",
       "<style scoped>\n",
       "    .dataframe tbody tr th:only-of-type {\n",
       "        vertical-align: middle;\n",
       "    }\n",
       "\n",
       "    .dataframe tbody tr th {\n",
       "        vertical-align: top;\n",
       "    }\n",
       "\n",
       "    .dataframe thead th {\n",
       "        text-align: right;\n",
       "    }\n",
       "</style>\n",
       "<table border=\"1\" class=\"dataframe\">\n",
       "  <thead>\n",
       "    <tr style=\"text-align: right;\">\n",
       "      <th></th>\n",
       "      <th>Price</th>\n",
       "      <th>Area</th>\n",
       "    </tr>\n",
       "  </thead>\n",
       "  <tbody>\n",
       "    <tr>\n",
       "      <th>Price</th>\n",
       "      <td>1.875752e+06</td>\n",
       "      <td>5793.161991</td>\n",
       "    </tr>\n",
       "    <tr>\n",
       "      <th>Area</th>\n",
       "      <td>5.793162e+03</td>\n",
       "      <td>35.914814</td>\n",
       "    </tr>\n",
       "  </tbody>\n",
       "</table>\n",
       "</div>"
      ],
      "text/plain": [
       "              Price         Area\n",
       "Price  1.875752e+06  5793.161991\n",
       "Area   5.793162e+03    35.914814"
      ]
     },
     "execution_count": 19,
     "metadata": {},
     "output_type": "execute_result"
    }
   ],
   "source": [
    "room_2=data[data['Rooms']==2]\n",
    "room_2[['Price', 'Area']].cov()"
   ]
  },
  {
   "cell_type": "code",
   "execution_count": 20,
   "metadata": {},
   "outputs": [
    {
     "name": "stdout",
     "output_type": "stream",
     "text": [
      "0.706233412640702\n",
      "70.6233412640702\n"
     ]
    }
   ],
   "source": [
    "correlation_2=5793.161991/(statistics.pstdev(room_2['Price'])*statistics.pstdev(room_2['Area']))\n",
    "print(correlation_2)\n",
    "print(correlation_2*100)"
   ]
  },
  {
   "cell_type": "code",
   "execution_count": 21,
   "metadata": {},
   "outputs": [
    {
     "data": {
      "text/html": [
       "<style  type=\"text/css\" >\n",
       "</style><table id=\"T_0e524000_ba06_11eb_9ef9_1063c88918da\" ><thead>    <tr>        <th class=\"blank level0\" ></th>        <th class=\"col_heading level0 col0\" >Price</th>        <th class=\"col_heading level0 col1\" >Area</th>    </tr></thead><tbody>\n",
       "                <tr>\n",
       "                        <th id=\"T_0e524000_ba06_11eb_9ef9_1063c88918dalevel0_row0\" class=\"row_heading level0 row0\" >Price</th>\n",
       "                        <td id=\"T_0e524000_ba06_11eb_9ef9_1063c88918darow0_col0\" class=\"data row0 col0\" >1.00</td>\n",
       "                        <td id=\"T_0e524000_ba06_11eb_9ef9_1063c88918darow0_col1\" class=\"data row0 col1\" >0.71</td>\n",
       "            </tr>\n",
       "            <tr>\n",
       "                        <th id=\"T_0e524000_ba06_11eb_9ef9_1063c88918dalevel0_row1\" class=\"row_heading level0 row1\" >Area</th>\n",
       "                        <td id=\"T_0e524000_ba06_11eb_9ef9_1063c88918darow1_col0\" class=\"data row1 col0\" >0.71</td>\n",
       "                        <td id=\"T_0e524000_ba06_11eb_9ef9_1063c88918darow1_col1\" class=\"data row1 col1\" >1.00</td>\n",
       "            </tr>\n",
       "    </tbody></table>"
      ],
      "text/plain": [
       "<pandas.io.formats.style.Styler at 0x206ba20e1c0>"
      ]
     },
     "execution_count": 21,
     "metadata": {},
     "output_type": "execute_result"
    }
   ],
   "source": [
    "room_2[['Price', 'Area']].corr().style.set_precision(2)"
   ]
  },
  {
   "cell_type": "markdown",
   "metadata": {},
   "source": [
    "Коэффициент корреляции Пирсона 71%"
   ]
  },
  {
   "cell_type": "markdown",
   "metadata": {},
   "source": [
    "**Для трехкомнатных**"
   ]
  },
  {
   "cell_type": "code",
   "execution_count": 22,
   "metadata": {},
   "outputs": [
    {
     "data": {
      "text/html": [
       "<div>\n",
       "<style scoped>\n",
       "    .dataframe tbody tr th:only-of-type {\n",
       "        vertical-align: middle;\n",
       "    }\n",
       "\n",
       "    .dataframe tbody tr th {\n",
       "        vertical-align: top;\n",
       "    }\n",
       "\n",
       "    .dataframe thead th {\n",
       "        text-align: right;\n",
       "    }\n",
       "</style>\n",
       "<table border=\"1\" class=\"dataframe\">\n",
       "  <thead>\n",
       "    <tr style=\"text-align: right;\">\n",
       "      <th></th>\n",
       "      <th>Price</th>\n",
       "      <th>Area</th>\n",
       "    </tr>\n",
       "  </thead>\n",
       "  <tbody>\n",
       "    <tr>\n",
       "      <th>Price</th>\n",
       "      <td>3.840079e+06</td>\n",
       "      <td>13052.97479</td>\n",
       "    </tr>\n",
       "    <tr>\n",
       "      <th>Area</th>\n",
       "      <td>1.305297e+04</td>\n",
       "      <td>79.99979</td>\n",
       "    </tr>\n",
       "  </tbody>\n",
       "</table>\n",
       "</div>"
      ],
      "text/plain": [
       "              Price         Area\n",
       "Price  3.840079e+06  13052.97479\n",
       "Area   1.305297e+04     79.99979"
      ]
     },
     "execution_count": 22,
     "metadata": {},
     "output_type": "execute_result"
    }
   ],
   "source": [
    "room_3=data[data['Rooms']==3]\n",
    "room_3[['Price', 'Area']].cov()"
   ]
  },
  {
   "cell_type": "code",
   "execution_count": 23,
   "metadata": {},
   "outputs": [
    {
     "name": "stdout",
     "output_type": "stream",
     "text": [
      "0.7451742210435901\n",
      "74.51742210435901\n"
     ]
    }
   ],
   "source": [
    "correlation_3=13052.97479/(statistics.pstdev(room_3['Price'])*statistics.pstdev(room_3['Area']))\n",
    "print(correlation_3)\n",
    "print(correlation_3*100)"
   ]
  },
  {
   "cell_type": "code",
   "execution_count": 25,
   "metadata": {},
   "outputs": [
    {
     "data": {
      "text/html": [
       "<style  type=\"text/css\" >\n",
       "</style><table id=\"T_4ee2b1f4_ba06_11eb_8930_1063c88918da\" ><thead>    <tr>        <th class=\"blank level0\" ></th>        <th class=\"col_heading level0 col0\" >Price</th>        <th class=\"col_heading level0 col1\" >Area</th>    </tr></thead><tbody>\n",
       "                <tr>\n",
       "                        <th id=\"T_4ee2b1f4_ba06_11eb_8930_1063c88918dalevel0_row0\" class=\"row_heading level0 row0\" >Price</th>\n",
       "                        <td id=\"T_4ee2b1f4_ba06_11eb_8930_1063c88918darow0_col0\" class=\"data row0 col0\" >1.00</td>\n",
       "                        <td id=\"T_4ee2b1f4_ba06_11eb_8930_1063c88918darow0_col1\" class=\"data row0 col1\" >0.74</td>\n",
       "            </tr>\n",
       "            <tr>\n",
       "                        <th id=\"T_4ee2b1f4_ba06_11eb_8930_1063c88918dalevel0_row1\" class=\"row_heading level0 row1\" >Area</th>\n",
       "                        <td id=\"T_4ee2b1f4_ba06_11eb_8930_1063c88918darow1_col0\" class=\"data row1 col0\" >0.74</td>\n",
       "                        <td id=\"T_4ee2b1f4_ba06_11eb_8930_1063c88918darow1_col1\" class=\"data row1 col1\" >1.00</td>\n",
       "            </tr>\n",
       "    </tbody></table>"
      ],
      "text/plain": [
       "<pandas.io.formats.style.Styler at 0x206ba575d60>"
      ]
     },
     "execution_count": 25,
     "metadata": {},
     "output_type": "execute_result"
    }
   ],
   "source": [
    "room_3[['Price', 'Area']].corr().style.set_precision(2)"
   ]
  },
  {
   "cell_type": "markdown",
   "metadata": {},
   "source": [
    "Коэффициент корреляции Пирсона 74%"
   ]
  },
  {
   "cell_type": "markdown",
   "metadata": {},
   "source": [
    "Коэффициент корреляция для каждой категории квартир показывает существует ли связь цены и площади квартир. Из полученных данных можно сделать вывод, что цена квартиры меняется в зависимости от площади квартиры. Для всех квартир коэффициент корреляции положительный,значит, чем больше площадь квартиры, тем выше его цена."
   ]
  },
  {
   "cell_type": "markdown",
   "metadata": {},
   "source": [
    "3 Рассчитать квартили\n",
    "Рассчитайте границы квартилей распределения цен на 2-х квартиры площадью более 40 кв. метров."
   ]
  },
  {
   "cell_type": "code",
   "execution_count": 29,
   "metadata": {},
   "outputs": [
    {
     "data": {
      "text/html": [
       "<div>\n",
       "<style scoped>\n",
       "    .dataframe tbody tr th:only-of-type {\n",
       "        vertical-align: middle;\n",
       "    }\n",
       "\n",
       "    .dataframe tbody tr th {\n",
       "        vertical-align: top;\n",
       "    }\n",
       "\n",
       "    .dataframe thead th {\n",
       "        text-align: right;\n",
       "    }\n",
       "</style>\n",
       "<table border=\"1\" class=\"dataframe\">\n",
       "  <thead>\n",
       "    <tr style=\"text-align: right;\">\n",
       "      <th></th>\n",
       "      <th>No</th>\n",
       "      <th>Rooms</th>\n",
       "      <th>DistMetro</th>\n",
       "      <th>Area</th>\n",
       "      <th>Price</th>\n",
       "    </tr>\n",
       "  </thead>\n",
       "  <tbody>\n",
       "    <tr>\n",
       "      <th>1</th>\n",
       "      <td>2</td>\n",
       "      <td>2</td>\n",
       "      <td>4</td>\n",
       "      <td>54</td>\n",
       "      <td>9785</td>\n",
       "    </tr>\n",
       "    <tr>\n",
       "      <th>3</th>\n",
       "      <td>4</td>\n",
       "      <td>2</td>\n",
       "      <td>8</td>\n",
       "      <td>48</td>\n",
       "      <td>9123</td>\n",
       "    </tr>\n",
       "    <tr>\n",
       "      <th>7</th>\n",
       "      <td>8</td>\n",
       "      <td>2</td>\n",
       "      <td>12</td>\n",
       "      <td>52</td>\n",
       "      <td>7908</td>\n",
       "    </tr>\n",
       "    <tr>\n",
       "      <th>9</th>\n",
       "      <td>10</td>\n",
       "      <td>2</td>\n",
       "      <td>5</td>\n",
       "      <td>46</td>\n",
       "      <td>8047</td>\n",
       "    </tr>\n",
       "    <tr>\n",
       "      <th>15</th>\n",
       "      <td>16</td>\n",
       "      <td>2</td>\n",
       "      <td>0</td>\n",
       "      <td>49</td>\n",
       "      <td>10305</td>\n",
       "    </tr>\n",
       "  </tbody>\n",
       "</table>\n",
       "</div>"
      ],
      "text/plain": [
       "    No  Rooms  DistMetro  Area  Price\n",
       "1    2      2          4    54   9785\n",
       "3    4      2          8    48   9123\n",
       "7    8      2         12    52   7908\n",
       "9   10      2          5    46   8047\n",
       "15  16      2          0    49  10305"
      ]
     },
     "execution_count": 29,
     "metadata": {},
     "output_type": "execute_result"
    }
   ],
   "source": [
    "room_2_more40=room_2[room_2['Area']>40]\n",
    "room_2_more40.head()"
   ]
  },
  {
   "cell_type": "code",
   "execution_count": 30,
   "metadata": {},
   "outputs": [
    {
     "data": {
      "text/html": [
       "<div>\n",
       "<style scoped>\n",
       "    .dataframe tbody tr th:only-of-type {\n",
       "        vertical-align: middle;\n",
       "    }\n",
       "\n",
       "    .dataframe tbody tr th {\n",
       "        vertical-align: top;\n",
       "    }\n",
       "\n",
       "    .dataframe thead th {\n",
       "        text-align: right;\n",
       "    }\n",
       "</style>\n",
       "<table border=\"1\" class=\"dataframe\">\n",
       "  <thead>\n",
       "    <tr style=\"text-align: right;\">\n",
       "      <th></th>\n",
       "      <th>No</th>\n",
       "      <th>Rooms</th>\n",
       "      <th>DistMetro</th>\n",
       "      <th>Area</th>\n",
       "      <th>Price</th>\n",
       "    </tr>\n",
       "  </thead>\n",
       "  <tbody>\n",
       "    <tr>\n",
       "      <th>0.25</th>\n",
       "      <td>1253.50</td>\n",
       "      <td>2.0</td>\n",
       "      <td>5.0</td>\n",
       "      <td>45.0</td>\n",
       "      <td>7924.0</td>\n",
       "    </tr>\n",
       "    <tr>\n",
       "      <th>0.50</th>\n",
       "      <td>2473.00</td>\n",
       "      <td>2.0</td>\n",
       "      <td>9.0</td>\n",
       "      <td>49.0</td>\n",
       "      <td>8812.0</td>\n",
       "    </tr>\n",
       "    <tr>\n",
       "      <th>0.75</th>\n",
       "      <td>3730.75</td>\n",
       "      <td>2.0</td>\n",
       "      <td>14.0</td>\n",
       "      <td>53.0</td>\n",
       "      <td>9684.5</td>\n",
       "    </tr>\n",
       "  </tbody>\n",
       "</table>\n",
       "</div>"
      ],
      "text/plain": [
       "           No  Rooms  DistMetro  Area   Price\n",
       "0.25  1253.50    2.0        5.0  45.0  7924.0\n",
       "0.50  2473.00    2.0        9.0  49.0  8812.0\n",
       "0.75  3730.75    2.0       14.0  53.0  9684.5"
      ]
     },
     "execution_count": 30,
     "metadata": {},
     "output_type": "execute_result"
    }
   ],
   "source": [
    "room_2_more40.quantile([.25, .50, .75], axis = 0) "
   ]
  },
  {
   "cell_type": "code",
   "execution_count": 33,
   "metadata": {},
   "outputs": [
    {
     "name": "stdout",
     "output_type": "stream",
     "text": [
      "Первый квартиль:  4427 ,  7924.0\n",
      "Второй квартиль:  7924.0 ,  8812.0\n",
      "Третий квартиль:  8812.0 ,  9684.5\n",
      "Четвертый квартиль:  9684.5 ,  12833\n"
     ]
    }
   ],
   "source": [
    "print('Первый квантиль: ', room_2_more_40['Price'].min(),', ', np.quantile(room_2_more_40['Price'], .25) )\n",
    "print('Второй квантиль: ', np.quantile(room_2_more_40['Price'], .25),', ', np.quantile(room_2_more_40['Price'], .50) )\n",
    "print('Третий квантиль: ', np.quantile(room_2_more_40['Price'], .50),', ', np.quantile(room_2_more_40['Price'], .75) )\n",
    "print('Четвертый квантиль: ', np.quantile(room_2_more_40['Price'], .75),', ', room_2_more_40['Price'].max() )"
   ]
  },
  {
   "cell_type": "markdown",
   "metadata": {},
   "source": [
    "4 Решить задачу\n",
    "Вы являетесь [риэлтором, ваша прибыль это комиссия 3% от суммы сделки купли-продажи квартир (цена квартиры). В текущем квартале у вас ожидается 25 сделок купли-продажи 3-х комнатных квартир. Оцените вероятность того, что ваша суммарная прибыль от этих продаж превысит 9 млн. 200 тыс.\n",
    "*В каждой категории разная степень корреляции. т.е. у 3 комнатных она может быть иная, чем у однокомнатных."
   ]
  },
  {
   "cell_type": "code",
   "execution_count": 55,
   "metadata": {},
   "outputs": [
    {
     "name": "stdout",
     "output_type": "stream",
     "text": [
      "Количество:  1653\n",
      "Средняя цена:  11749.978\n"
     ]
    }
   ],
   "source": [
    "\n",
    "room3 = price[data['Rooms'] == 3]\n",
    "N = room3.count()\n",
    "print('Количество: ', N)\n",
    "print('Средняя цена: ', round(room3.mean(), 3))\n",
    "pr = round(9200/0.03, 3)\n"
   ]
  },
  {
   "cell_type": "code",
   "execution_count": 57,
   "metadata": {},
   "outputs": [
    {
     "name": "stdout",
     "output_type": "stream",
     "text": [
      "Для получения прибыли нужно продать квартир на сумму:  306666.667  (тыс. руб.)\n",
      "Для получения прибыли с 1 сделки нужно получить сумму:  12266.66668  (тыс. руб.)\n"
     ]
    }
   ],
   "source": [
    "print('Для получения прибыли нужно продать квартир на сумму: ', pr, ' (тыс. руб.)')\n",
    "print('Для получения прибыли с 1 сделки нужно получить сумму: ', pr/25, ' (тыс. руб.)')\n"
   ]
  },
  {
   "cell_type": "code",
   "execution_count": 60,
   "metadata": {},
   "outputs": [
    {
     "name": "stdout",
     "output_type": "stream",
     "text": [
      "Количество квартир стоимостью 12200-12500 тыс. руб.   616\n",
      "Вероятность:  0.373\n"
     ]
    }
   ],
   "source": [
    "count = room3[data['Price'] >= 12266].count()\n",
    "print('Количество квартир стоимостью 12200-12500 тыс. руб.  ', count)\n",
    "\n",
    "V = round(count / N, 3)\n",
    "print('Вероятность: ', V)"
   ]
  },
  {
   "cell_type": "code",
   "execution_count": 54,
   "metadata": {},
   "outputs": [
    {
     "data": {
      "image/png": "[encoded data removed]",
      "text/plain": [
       "<Figure size 432x288 with 1 Axes>"
      ]
     },
     "metadata": {
      "needs_background": "light"
     },
     "output_type": "display_data"
    }
   ],
   "source": [
    "count, bins, ignored=plt.hist(room3, 20, density=True)\n",
    "plt.title('Вероятность покупки квартиры')\n",
    "plt.ylabel('Вероятность')\n",
    "plt.xlabel('Цена трехкомнатной квартиры')\n",
    "plt.grid(True)\n",
    "plt.show()"
   ]
  },
  {
   "cell_type": "markdown",
   "metadata": {},
   "source": [
    "Судя по гистограмме можно сделать предположение о нормальном распределении."
   ]
  },
  {
   "cell_type": "code",
   "execution_count": null,
   "metadata": {},
   "outputs": [],
   "source": []
  }
 ],
 "metadata": {
  "kernelspec": {
   "display_name": "Python 3",
   "language": "python",
   "name": "python3"
  },
  "language_info": {
   "codemirror_mode": {
    "name": "ipython",
    "version": 3
   },
   "file_extension": ".py",
   "mimetype": "text/x-python",
   "name": "python",
   "nbconvert_exporter": "python",
   "pygments_lexer": "ipython3",
   "version": "3.8.5"
  }
 },
 "nbformat": 4,
 "nbformat_minor": 4
}
